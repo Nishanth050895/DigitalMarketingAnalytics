{
 "cells": [
  {
   "cell_type": "code",
   "execution_count": 6,
   "metadata": {},
   "outputs": [],
   "source": [
    "import boto3\n",
    "import pandas as pd\n",
    "\n",
    "client = boto3.client('s3') # s3 bucket. "
   ]
  },
  {
   "cell_type": "code",
   "execution_count": 11,
   "metadata": {},
   "outputs": [],
   "source": [
    "obj = client.get_object(Bucket='info7374s3alycefinalproject', Key='FinalAlyce_facts_ML.csv')\n",
    "df = pd.read_csv(obj['Body'])"
   ]
  },
  {
   "cell_type": "code",
   "execution_count": 12,
   "metadata": {},
   "outputs": [
    {
     "data": {
      "text/html": [
       "<div>\n",
       "<style scoped>\n",
       "    .dataframe tbody tr th:only-of-type {\n",
       "        vertical-align: middle;\n",
       "    }\n",
       "\n",
       "    .dataframe tbody tr th {\n",
       "        vertical-align: top;\n",
       "    }\n",
       "\n",
       "    .dataframe thead th {\n",
       "        text-align: right;\n",
       "    }\n",
       "</style>\n",
       "<table border=\"1\" class=\"dataframe\">\n",
       "  <thead>\n",
       "    <tr style=\"text-align: right;\">\n",
       "      <th></th>\n",
       "      <th>order_id</th>\n",
       "      <th>client_id</th>\n",
       "      <th>service_id</th>\n",
       "      <th>gift_id</th>\n",
       "      <th>gift_cost</th>\n",
       "      <th>total_gifts</th>\n",
       "      <th>total_amount</th>\n",
       "      <th>fee</th>\n",
       "      <th>variable_cost</th>\n",
       "      <th>total_revenue</th>\n",
       "      <th>date</th>\n",
       "    </tr>\n",
       "  </thead>\n",
       "  <tbody>\n",
       "    <tr>\n",
       "      <th>0</th>\n",
       "      <td>11110</td>\n",
       "      <td>419</td>\n",
       "      <td>1</td>\n",
       "      <td>16</td>\n",
       "      <td>1290</td>\n",
       "      <td>13</td>\n",
       "      <td>16764</td>\n",
       "      <td>3353</td>\n",
       "      <td>4326</td>\n",
       "      <td>20117</td>\n",
       "      <td>6/10/2019</td>\n",
       "    </tr>\n",
       "    <tr>\n",
       "      <th>1</th>\n",
       "      <td>11111</td>\n",
       "      <td>503</td>\n",
       "      <td>3</td>\n",
       "      <td>21</td>\n",
       "      <td>236</td>\n",
       "      <td>50</td>\n",
       "      <td>11783</td>\n",
       "      <td>2357</td>\n",
       "      <td>5976</td>\n",
       "      <td>14140</td>\n",
       "      <td>6/16/2019</td>\n",
       "    </tr>\n",
       "    <tr>\n",
       "      <th>2</th>\n",
       "      <td>11112</td>\n",
       "      <td>395</td>\n",
       "      <td>2</td>\n",
       "      <td>23</td>\n",
       "      <td>212</td>\n",
       "      <td>71</td>\n",
       "      <td>15050</td>\n",
       "      <td>3010</td>\n",
       "      <td>4836</td>\n",
       "      <td>18060</td>\n",
       "      <td>9/9/2018</td>\n",
       "    </tr>\n",
       "    <tr>\n",
       "      <th>3</th>\n",
       "      <td>11113</td>\n",
       "      <td>292</td>\n",
       "      <td>1</td>\n",
       "      <td>22</td>\n",
       "      <td>445</td>\n",
       "      <td>38</td>\n",
       "      <td>16919</td>\n",
       "      <td>3384</td>\n",
       "      <td>6144</td>\n",
       "      <td>20303</td>\n",
       "      <td>6/15/2019</td>\n",
       "    </tr>\n",
       "    <tr>\n",
       "      <th>4</th>\n",
       "      <td>11114</td>\n",
       "      <td>408</td>\n",
       "      <td>1</td>\n",
       "      <td>14</td>\n",
       "      <td>1248</td>\n",
       "      <td>11</td>\n",
       "      <td>13727</td>\n",
       "      <td>2745</td>\n",
       "      <td>5632</td>\n",
       "      <td>16472</td>\n",
       "      <td>2/22/2018</td>\n",
       "    </tr>\n",
       "  </tbody>\n",
       "</table>\n",
       "</div>"
      ],
      "text/plain": [
       "   order_id  client_id  service_id  gift_id  gift_cost  total_gifts  \\\n",
       "0     11110        419           1       16       1290           13   \n",
       "1     11111        503           3       21        236           50   \n",
       "2     11112        395           2       23        212           71   \n",
       "3     11113        292           1       22        445           38   \n",
       "4     11114        408           1       14       1248           11   \n",
       "\n",
       "   total_amount   fee  variable_cost  total_revenue       date  \n",
       "0         16764  3353           4326          20117  6/10/2019  \n",
       "1         11783  2357           5976          14140  6/16/2019  \n",
       "2         15050  3010           4836          18060   9/9/2018  \n",
       "3         16919  3384           6144          20303  6/15/2019  \n",
       "4         13727  2745           5632          16472  2/22/2018  "
      ]
     },
     "execution_count": 12,
     "metadata": {},
     "output_type": "execute_result"
    }
   ],
   "source": [
    "df.head()"
   ]
  },
  {
   "cell_type": "code",
   "execution_count": 13,
   "metadata": {},
   "outputs": [],
   "source": [
    "import datetime as dt\n",
    "df['Date'] = pd.to_datetime(df['date']).dt.date"
   ]
  },
  {
   "cell_type": "code",
   "execution_count": 17,
   "metadata": {},
   "outputs": [],
   "source": [
    "df = df[pd.notnull(df['client_id'])]\n",
    "df = df[(df['total_gifts']>0)]"
   ]
  },
  {
   "cell_type": "code",
   "execution_count": 18,
   "metadata": {},
   "outputs": [],
   "source": [
    "df['Sales'] = df['total_revenue']\n",
    "cols_of_interest = ['client_id', 'Date', 'Sales']\n",
    "df = df[cols_of_interest]"
   ]
  },
  {
   "cell_type": "code",
   "execution_count": 19,
   "metadata": {},
   "outputs": [
    {
     "name": "stdout",
     "output_type": "stream",
     "text": [
      "   client_id        Date  Sales\n",
      "0        419  2019-06-10  20117\n",
      "1        503  2019-06-16  14140\n",
      "2        395  2018-09-09  18060\n",
      "3        292  2019-06-15  20303\n",
      "4        408  2018-02-22  16472\n",
      "421\n"
     ]
    }
   ],
   "source": [
    "print(df.head())\n",
    "print(df['client_id'].nunique())"
   ]
  },
  {
   "cell_type": "code",
   "execution_count": 26,
   "metadata": {},
   "outputs": [
    {
     "data": {
      "text/html": [
       "<div>\n",
       "<style scoped>\n",
       "    .dataframe tbody tr th:only-of-type {\n",
       "        vertical-align: middle;\n",
       "    }\n",
       "\n",
       "    .dataframe tbody tr th {\n",
       "        vertical-align: top;\n",
       "    }\n",
       "\n",
       "    .dataframe thead th {\n",
       "        text-align: right;\n",
       "    }\n",
       "</style>\n",
       "<table border=\"1\" class=\"dataframe\">\n",
       "  <thead>\n",
       "    <tr style=\"text-align: right;\">\n",
       "      <th></th>\n",
       "      <th>frequency</th>\n",
       "      <th>recency</th>\n",
       "      <th>T</th>\n",
       "      <th>monetary_value</th>\n",
       "    </tr>\n",
       "    <tr>\n",
       "      <th>client_id</th>\n",
       "      <th></th>\n",
       "      <th></th>\n",
       "      <th></th>\n",
       "      <th></th>\n",
       "    </tr>\n",
       "  </thead>\n",
       "  <tbody>\n",
       "    <tr>\n",
       "      <th>111</th>\n",
       "      <td>9.0</td>\n",
       "      <td>644.0</td>\n",
       "      <td>682.0</td>\n",
       "      <td>17225.000000</td>\n",
       "    </tr>\n",
       "    <tr>\n",
       "      <th>112</th>\n",
       "      <td>5.0</td>\n",
       "      <td>606.0</td>\n",
       "      <td>619.0</td>\n",
       "      <td>16560.800000</td>\n",
       "    </tr>\n",
       "    <tr>\n",
       "      <th>113</th>\n",
       "      <td>9.0</td>\n",
       "      <td>615.0</td>\n",
       "      <td>615.0</td>\n",
       "      <td>17261.666667</td>\n",
       "    </tr>\n",
       "    <tr>\n",
       "      <th>114</th>\n",
       "      <td>6.0</td>\n",
       "      <td>615.0</td>\n",
       "      <td>678.0</td>\n",
       "      <td>19652.833333</td>\n",
       "    </tr>\n",
       "    <tr>\n",
       "      <th>115</th>\n",
       "      <td>7.0</td>\n",
       "      <td>664.0</td>\n",
       "      <td>693.0</td>\n",
       "      <td>17169.428571</td>\n",
       "    </tr>\n",
       "  </tbody>\n",
       "</table>\n",
       "</div>"
      ],
      "text/plain": [
       "           frequency  recency      T  monetary_value\n",
       "client_id                                           \n",
       "111              9.0    644.0  682.0    17225.000000\n",
       "112              5.0    606.0  619.0    16560.800000\n",
       "113              9.0    615.0  615.0    17261.666667\n",
       "114              6.0    615.0  678.0    19652.833333\n",
       "115              7.0    664.0  693.0    17169.428571"
      ]
     },
     "execution_count": 26,
     "metadata": {},
     "output_type": "execute_result"
    }
   ],
   "source": [
    "from lifetimes.plotting import *\n",
    "from lifetimes.utils import *\n",
    "\n",
    "data = summary_data_from_transaction_data(df, 'client_id', 'Date', monetary_value_col='Sales', observation_period_end='2019-12-1')\n",
    "data.head()"
   ]
  },
  {
   "cell_type": "code",
   "execution_count": 27,
   "metadata": {},
   "outputs": [
    {
     "name": "stdout",
     "output_type": "stream",
     "text": [
      "count    421.000000\n",
      "mean       8.047506\n",
      "std        3.087243\n",
      "min        1.000000\n",
      "25%        6.000000\n",
      "50%        8.000000\n",
      "75%       10.000000\n",
      "max       19.000000\n",
      "Name: frequency, dtype: float64\n",
      "0.0\n"
     ]
    }
   ],
   "source": [
    "print(data['frequency'].describe())\n",
    "print(sum(data['frequency'] == 0)/float(len(data)))"
   ]
  },
  {
   "cell_type": "code",
   "execution_count": 28,
   "metadata": {},
   "outputs": [
    {
     "name": "stdout",
     "output_type": "stream",
     "text": [
      "<lifetimes.BetaGeoFitter: fitted with 421 subjects, a: 0.00, alpha: 108.42, b: 0.00, r: 1.40>\n"
     ]
    }
   ],
   "source": [
    "from lifetimes import BetaGeoFitter\n",
    "\n",
    "# similar API to scikit-learn and lifelines.\n",
    "bgf = BetaGeoFitter(penalizer_coef=0.1)\n",
    "bgf.fit(data['frequency'], data['recency'], data['T'])\n",
    "print(bgf)"
   ]
  },
  {
   "cell_type": "code",
   "execution_count": 29,
   "metadata": {},
   "outputs": [
    {
     "data": {
      "text/html": [
       "<div>\n",
       "<style scoped>\n",
       "    .dataframe tbody tr th:only-of-type {\n",
       "        vertical-align: middle;\n",
       "    }\n",
       "\n",
       "    .dataframe tbody tr th {\n",
       "        vertical-align: top;\n",
       "    }\n",
       "\n",
       "    .dataframe thead th {\n",
       "        text-align: right;\n",
       "    }\n",
       "</style>\n",
       "<table border=\"1\" class=\"dataframe\">\n",
       "  <thead>\n",
       "    <tr style=\"text-align: right;\">\n",
       "      <th></th>\n",
       "      <th>frequency</th>\n",
       "      <th>recency</th>\n",
       "      <th>T</th>\n",
       "      <th>monetary_value</th>\n",
       "      <th>predicted_purchases</th>\n",
       "    </tr>\n",
       "    <tr>\n",
       "      <th>client_id</th>\n",
       "      <th></th>\n",
       "      <th></th>\n",
       "      <th></th>\n",
       "      <th></th>\n",
       "      <th></th>\n",
       "    </tr>\n",
       "  </thead>\n",
       "  <tbody>\n",
       "    <tr>\n",
       "      <th>131</th>\n",
       "      <td>15.0</td>\n",
       "      <td>429.0</td>\n",
       "      <td>552.0</td>\n",
       "      <td>17106.266667</td>\n",
       "      <td>0.024838</td>\n",
       "    </tr>\n",
       "    <tr>\n",
       "      <th>476</th>\n",
       "      <td>14.0</td>\n",
       "      <td>508.0</td>\n",
       "      <td>510.0</td>\n",
       "      <td>18400.000000</td>\n",
       "      <td>0.024908</td>\n",
       "    </tr>\n",
       "    <tr>\n",
       "      <th>359</th>\n",
       "      <td>17.0</td>\n",
       "      <td>583.0</td>\n",
       "      <td>626.0</td>\n",
       "      <td>18154.588235</td>\n",
       "      <td>0.025059</td>\n",
       "    </tr>\n",
       "    <tr>\n",
       "      <th>289</th>\n",
       "      <td>19.0</td>\n",
       "      <td>617.0</td>\n",
       "      <td>684.0</td>\n",
       "      <td>18309.631579</td>\n",
       "      <td>0.025748</td>\n",
       "    </tr>\n",
       "    <tr>\n",
       "      <th>519</th>\n",
       "      <td>17.0</td>\n",
       "      <td>539.0</td>\n",
       "      <td>553.0</td>\n",
       "      <td>19076.294118</td>\n",
       "      <td>0.027824</td>\n",
       "    </tr>\n",
       "  </tbody>\n",
       "</table>\n",
       "</div>"
      ],
      "text/plain": [
       "           frequency  recency      T  monetary_value  predicted_purchases\n",
       "client_id                                                                \n",
       "131             15.0    429.0  552.0    17106.266667             0.024838\n",
       "476             14.0    508.0  510.0    18400.000000             0.024908\n",
       "359             17.0    583.0  626.0    18154.588235             0.025059\n",
       "289             19.0    617.0  684.0    18309.631579             0.025748\n",
       "519             17.0    539.0  553.0    19076.294118             0.027824"
      ]
     },
     "execution_count": 29,
     "metadata": {},
     "output_type": "execute_result"
    }
   ],
   "source": [
    "t = 1\n",
    "data['predicted_purchases'] = bgf.conditional_expected_number_of_purchases_up_to_time(t, data['frequency'], data['recency'], data['T'])\n",
    "data.sort_values(by='predicted_purchases').tail(5)"
   ]
  },
  {
   "cell_type": "code",
   "execution_count": 30,
   "metadata": {},
   "outputs": [
    {
     "name": "stdout",
     "output_type": "stream",
     "text": [
      "           frequency_cal  recency_cal  T_cal  frequency_holdout  \\\n",
      "client_id                                                         \n",
      "111                  3.0        424.0  499.0                6.0   \n",
      "112                  4.0        274.0  436.0                1.0   \n",
      "113                  3.0        421.0  432.0                6.0   \n",
      "114                  4.0        433.0  495.0                2.0   \n",
      "115                  4.0        393.0  510.0                3.0   \n",
      "\n",
      "           duration_holdout  \n",
      "client_id                    \n",
      "111                     183  \n",
      "112                     183  \n",
      "113                     183  \n",
      "114                     183  \n",
      "115                     183  \n"
     ]
    }
   ],
   "source": [
    "from lifetimes.utils import calibration_and_holdout_data\n",
    "\n",
    "summary_cal_holdout = calibration_and_holdout_data(df, 'client_id', 'Date',\n",
    "                                        calibration_period_end='2019-06-01',\n",
    "                                        observation_period_end='2019-12-01' )   \n",
    "print(summary_cal_holdout.head())"
   ]
  },
  {
   "cell_type": "code",
   "execution_count": 31,
   "metadata": {},
   "outputs": [
    {
     "data": {
      "text/plain": [
       "0.25058707054398105"
      ]
     },
     "execution_count": 31,
     "metadata": {},
     "output_type": "execute_result"
    }
   ],
   "source": [
    "t = 10 #predict purchases in 10 periods\n",
    "individual = data.loc[359]\n",
    "# The below function is an alias to `bfg.conditional_expected_number_of_purchases_up_to_time`\n",
    "bgf.predict(t, individual['frequency'], individual['recency'], individual['T'])"
   ]
  },
  {
   "cell_type": "code",
   "execution_count": 32,
   "metadata": {},
   "outputs": [
    {
     "data": {
      "text/plain": [
       "frequency                 17.000000\n",
       "recency                  583.000000\n",
       "T                        626.000000\n",
       "monetary_value         18154.588235\n",
       "predicted_purchases        0.025059\n",
       "Name: 359, dtype: float64"
      ]
     },
     "execution_count": 32,
     "metadata": {},
     "output_type": "execute_result"
    }
   ],
   "source": [
    "data.loc[359]"
   ]
  },
  {
   "cell_type": "code",
   "execution_count": 33,
   "metadata": {},
   "outputs": [
    {
     "name": "stdout",
     "output_type": "stream",
     "text": [
      "           frequency  recency      T  monetary_value  predicted_purchases\n",
      "client_id                                                                \n",
      "111              9.0    644.0  682.0    17225.000000             0.013162\n",
      "112              5.0    606.0  619.0    16560.800000             0.008803\n",
      "113              9.0    615.0  615.0    17261.666667             0.014381\n",
      "114              6.0    615.0  678.0    19652.833333             0.009414\n",
      "115              7.0    664.0  693.0    17169.428571             0.010486\n",
      "421\n"
     ]
    }
   ],
   "source": [
    "returning_customers_summary = data[data['frequency']>0]\n",
    "\n",
    "print(returning_customers_summary.head())\n",
    "print(len(returning_customers_summary))"
   ]
  },
  {
   "cell_type": "code",
   "execution_count": 34,
   "metadata": {},
   "outputs": [
    {
     "data": {
      "text/html": [
       "<div>\n",
       "<style scoped>\n",
       "    .dataframe tbody tr th:only-of-type {\n",
       "        vertical-align: middle;\n",
       "    }\n",
       "\n",
       "    .dataframe tbody tr th {\n",
       "        vertical-align: top;\n",
       "    }\n",
       "\n",
       "    .dataframe thead th {\n",
       "        text-align: right;\n",
       "    }\n",
       "</style>\n",
       "<table border=\"1\" class=\"dataframe\">\n",
       "  <thead>\n",
       "    <tr style=\"text-align: right;\">\n",
       "      <th></th>\n",
       "      <th>monetary_value</th>\n",
       "      <th>frequency</th>\n",
       "    </tr>\n",
       "  </thead>\n",
       "  <tbody>\n",
       "    <tr>\n",
       "      <th>monetary_value</th>\n",
       "      <td>1.000000</td>\n",
       "      <td>0.015748</td>\n",
       "    </tr>\n",
       "    <tr>\n",
       "      <th>frequency</th>\n",
       "      <td>0.015748</td>\n",
       "      <td>1.000000</td>\n",
       "    </tr>\n",
       "  </tbody>\n",
       "</table>\n",
       "</div>"
      ],
      "text/plain": [
       "                monetary_value  frequency\n",
       "monetary_value        1.000000   0.015748\n",
       "frequency             0.015748   1.000000"
      ]
     },
     "execution_count": 34,
     "metadata": {},
     "output_type": "execute_result"
    }
   ],
   "source": [
    "returning_customers_summary[['monetary_value', 'frequency']].corr()"
   ]
  },
  {
   "cell_type": "code",
   "execution_count": 36,
   "metadata": {},
   "outputs": [
    {
     "name": "stdout",
     "output_type": "stream",
     "text": [
      "<lifetimes.GammaGammaFitter: fitted with 421 subjects, p: 0.74, q: 0.10, v: 0.70>\n"
     ]
    }
   ],
   "source": [
    "from lifetimes import GammaGammaFitter\n",
    "\n",
    "ggf = GammaGammaFitter(penalizer_coef = 0.1)\n",
    "ggf.fit(returning_customers_summary['frequency'],\n",
    "        returning_customers_summary['monetary_value'])\n",
    "print(ggf)"
   ]
  },
  {
   "cell_type": "code",
   "execution_count": 37,
   "metadata": {},
   "outputs": [
    {
     "name": "stdout",
     "output_type": "stream",
     "text": [
      "client_id\n",
      "111    19937.302320\n",
      "112    21931.180870\n",
      "113    19979.742442\n",
      "114    24691.389229\n",
      "115    20809.168714\n",
      "116    24139.800824\n",
      "117    20312.151182\n",
      "118    25952.990910\n",
      "119    20694.376656\n",
      "120    21052.045365\n",
      "dtype: float64\n"
     ]
    }
   ],
   "source": [
    "print(ggf.conditional_expected_average_profit(\n",
    "        data['frequency'],\n",
    "        data['monetary_value']\n",
    "    ).head(10))"
   ]
  },
  {
   "cell_type": "code",
   "execution_count": 38,
   "metadata": {},
   "outputs": [
    {
     "name": "stdout",
     "output_type": "stream",
     "text": [
      "client_id\n",
      "111     88605.398785\n",
      "112     65187.841891\n",
      "113     97017.778035\n",
      "114     78487.460084\n",
      "115     73676.153403\n",
      "116     70302.988616\n",
      "117    119074.589903\n",
      "118     67798.237655\n",
      "119     73729.721964\n",
      "120    120844.571995\n",
      "Name: clv, dtype: float64\n"
     ]
    }
   ],
   "source": [
    "bgf.fit(data['frequency'], data['recency'], data['T'])\n",
    "\n",
    "print(ggf.customer_lifetime_value(\n",
    "    bgf, #the model to use to predict the number of future transactions\n",
    "    data['frequency'],\n",
    "    data['recency'],\n",
    "    data['T'],\n",
    "    data['monetary_value'],\n",
    "    time=12, # months\n",
    "    discount_rate=0.01 # monthly discount rate ~ 12.7% annually\n",
    ").head(10))"
   ]
  },
  {
   "cell_type": "code",
   "execution_count": 55,
   "metadata": {},
   "outputs": [
    {
     "data": {
      "text/plain": [
       "pandas.core.frame.DataFrame"
      ]
     },
     "execution_count": 55,
     "metadata": {},
     "output_type": "execute_result"
    }
   ],
   "source": [
    "da = ggf.conditional_expected_average_profit(data['frequency'],data['monetary_value']).to_frame()\n",
    "\n",
    "da.head()\n",
    "type(da)"
   ]
  },
  {
   "cell_type": "code",
   "execution_count": null,
   "metadata": {},
   "outputs": [],
   "source": [
    "s3.meta.client.upload_file('/tmp/hello.txt', 'mybucket', 'hello.txt')"
   ]
  },
  {
   "cell_type": "code",
   "execution_count": 56,
   "metadata": {},
   "outputs": [
    {
     "data": {
      "text/html": [
       "<div>\n",
       "<style scoped>\n",
       "    .dataframe tbody tr th:only-of-type {\n",
       "        vertical-align: middle;\n",
       "    }\n",
       "\n",
       "    .dataframe tbody tr th {\n",
       "        vertical-align: top;\n",
       "    }\n",
       "\n",
       "    .dataframe thead th {\n",
       "        text-align: right;\n",
       "    }\n",
       "</style>\n",
       "<table border=\"1\" class=\"dataframe\">\n",
       "  <thead>\n",
       "    <tr style=\"text-align: right;\">\n",
       "      <th></th>\n",
       "      <th>0</th>\n",
       "    </tr>\n",
       "    <tr>\n",
       "      <th>client_id</th>\n",
       "      <th></th>\n",
       "    </tr>\n",
       "  </thead>\n",
       "  <tbody>\n",
       "    <tr>\n",
       "      <th>111</th>\n",
       "      <td>19937.302320</td>\n",
       "    </tr>\n",
       "    <tr>\n",
       "      <th>112</th>\n",
       "      <td>21931.180870</td>\n",
       "    </tr>\n",
       "    <tr>\n",
       "      <th>113</th>\n",
       "      <td>19979.742442</td>\n",
       "    </tr>\n",
       "    <tr>\n",
       "      <th>114</th>\n",
       "      <td>24691.389229</td>\n",
       "    </tr>\n",
       "    <tr>\n",
       "      <th>115</th>\n",
       "      <td>20809.168714</td>\n",
       "    </tr>\n",
       "  </tbody>\n",
       "</table>\n",
       "</div>"
      ],
      "text/plain": [
       "                      0\n",
       "client_id              \n",
       "111        19937.302320\n",
       "112        21931.180870\n",
       "113        19979.742442\n",
       "114        24691.389229\n",
       "115        20809.168714"
      ]
     },
     "execution_count": 56,
     "metadata": {},
     "output_type": "execute_result"
    }
   ],
   "source": [
    "da.head()"
   ]
  },
  {
   "cell_type": "code",
   "execution_count": 57,
   "metadata": {},
   "outputs": [],
   "source": [
    "from io import StringIO # python3; python2: BytesIO \n",
    "import boto3"
   ]
  },
  {
   "cell_type": "code",
   "execution_count": 58,
   "metadata": {},
   "outputs": [],
   "source": [
    "\n",
    "csv_buffer = StringIO()\n",
    "da.to_csv(csv_buffer)"
   ]
  },
  {
   "cell_type": "code",
   "execution_count": 60,
   "metadata": {},
   "outputs": [
    {
     "data": {
      "text/plain": [
       "{'ResponseMetadata': {'RequestId': 'B9DD013CB6DA3458',\n",
       "  'HostId': '+mEk/pl5/+WMC0W3Qeo9Yc/9qSgYCt91iu3ZoRfVgDBeRS2XyCYwvpb8MlkET2RRFFgrdBIR1WQ=',\n",
       "  'HTTPStatusCode': 200,\n",
       "  'HTTPHeaders': {'x-amz-id-2': '+mEk/pl5/+WMC0W3Qeo9Yc/9qSgYCt91iu3ZoRfVgDBeRS2XyCYwvpb8MlkET2RRFFgrdBIR1WQ=',\n",
       "   'x-amz-request-id': 'B9DD013CB6DA3458',\n",
       "   'date': 'Fri, 16 Aug 2019 00:35:03 GMT',\n",
       "   'etag': '\"414ef062aa6e9e01e1eb7443bdf2288f\"',\n",
       "   'content-length': '0',\n",
       "   'server': 'AmazonS3'},\n",
       "  'RetryAttempts': 0},\n",
       " 'ETag': '\"414ef062aa6e9e01e1eb7443bdf2288f\"'}"
      ]
     },
     "execution_count": 60,
     "metadata": {},
     "output_type": "execute_result"
    }
   ],
   "source": [
    "\n",
    "s3_resource = boto3.resource('s3')\n",
    "s3_resource.Object('info7374s3alycefinalproject', 'ltv.csv').put(Body=csv_buffer.getvalue())"
   ]
  },
  {
   "cell_type": "code",
   "execution_count": null,
   "metadata": {},
   "outputs": [],
   "source": []
  }
 ],
 "metadata": {
  "kernelspec": {
   "display_name": "conda_python3",
   "language": "python",
   "name": "conda_python3"
  },
  "language_info": {
   "codemirror_mode": {
    "name": "ipython",
    "version": 3
   },
   "file_extension": ".py",
   "mimetype": "text/x-python",
   "name": "python",
   "nbconvert_exporter": "python",
   "pygments_lexer": "ipython3",
   "version": "3.6.5"
  }
 },
 "nbformat": 4,
 "nbformat_minor": 2
}
